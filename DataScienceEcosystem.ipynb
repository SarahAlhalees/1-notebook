{
  "metadata": {
    "kernelspec": {
      "name": "python",
      "display_name": "Python (Pyodide)",
      "language": "python"
    },
    "language_info": {
      "codemirror_mode": {
        "name": "python",
        "version": 3
      },
      "file_extension": ".py",
      "mimetype": "text/x-python",
      "name": "python",
      "nbconvert_exporter": "python",
      "pygments_lexer": "ipython3",
      "version": "3.8"
    }
  },
  "nbformat_minor": 4,
  "nbformat": 4,
  "cells": [
    {
      "cell_type": "markdown",
      "source": "<center>\n    <img src=\"https://cf-courses-data.s3.us.cloud-object-storage.appdomain.cloud/IBMDeveloperSkillsNetwork-DS0105EN-SkillsNetwork/labs/Module2/images/SN_web_lightmode.png\" width=\"300\" alt=\"cognitiveclass.ai logo\">\n</center>\n",
      "metadata": {}
    },
    {
      "cell_type": "markdown",
      "source": "#### Add your code below following the instructions given in the course\n",
      "metadata": {}
    },
    {
      "cell_type": "markdown",
      "source": "### Data Science Tools and Ecosystem",
      "metadata": {}
    },
    {
      "cell_type": "markdown",
      "source": "this is my final project for data science tools ",
      "metadata": {}
    },
    {
      "cell_type": "markdown",
      "source": "### Data Science Languages:\n- Python\n- R\n- Julia\n- SQL\n- Scala",
      "metadata": {}
    },
    {
      "cell_type": "markdown",
      "source": "### Data Science Libraries:\n- NumPy\n- Pandas\n- Matplotlib\n- TensorFlow\n- Scikit-learn\n- ggplot2 (for R)",
      "metadata": {}
    },
    {
      "cell_type": "markdown",
      "source": "### Data Science Tools:\n\n| Tool         | Description                                      |\n|--------------|--------------------------------------------------|\n| Jupyter      | Interactive notebooks for data analysis          |\n| RStudio      | Integrated development environment for R         |\n| Apache Spark | Cluster-computing framework                      |\n| TensorFlow   | Open-source machine learning library             |\n| GitHub       | Version control and collaboration platform       |",
      "metadata": {}
    },
    {
      "cell_type": "markdown",
      "source": "### Arithmetic Expression Examples:\nNow I will show examples of basic arithmetic expressions.",
      "metadata": {}
    },
    {
      "cell_type": "code",
      "source": "x = (3*4)+5\nx",
      "metadata": {
        "trusted": true
      },
      "outputs": [
        {
          "execution_count": 8,
          "output_type": "execute_result",
          "data": {
            "text/plain": "17"
          },
          "metadata": {}
        }
      ],
      "execution_count": 8
    },
    {
      "cell_type": "code",
      "source": "m = 180\n#minutes to hours\nh = m / 60\nh",
      "metadata": {
        "trusted": true
      },
      "outputs": [
        {
          "execution_count": 7,
          "output_type": "execute_result",
          "data": {
            "text/plain": "3.0"
          },
          "metadata": {}
        }
      ],
      "execution_count": 7
    },
    {
      "cell_type": "markdown",
      "source": "### Objectives:\n\n-Understand basic data science languages and libraries.\n\n-Learn about various data science tools.\n\n-Practice basic arithmetic operations in Python.\n\n-Convert time units in Python.",
      "metadata": {}
    },
    {
      "cell_type": "markdown",
      "source": "### Author\nSarah Alhalees",
      "metadata": {}
    }
  ]
}